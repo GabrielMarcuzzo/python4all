{
  "nbformat": 4,
  "nbformat_minor": 0,
  "metadata": {
    "colab": {
      "name": "Gráfico_de_linhas_multiplas_variaveis.ipynb",
      "provenance": [],
      "authorship_tag": "ABX9TyN/jqYWsHN/L+9ZuLgNGHxS",
      "include_colab_link": true
    },
    "kernelspec": {
      "name": "python3",
      "display_name": "Python 3"
    },
    "language_info": {
      "name": "python"
    }
  },
  "cells": [
    {
      "cell_type": "markdown",
      "metadata": {
        "id": "view-in-github",
        "colab_type": "text"
      },
      "source": [
        "<a href=\"https://colab.research.google.com/github/GabrielMarcuzzo/python4all/blob/main/Gr%C3%A1fico_de_linhas_multiplas_variaveis.ipynb\" target=\"_parent\"><img src=\"https://colab.research.google.com/assets/colab-badge.svg\" alt=\"Open In Colab\"/></a>"
      ]
    },
    {
      "cell_type": "code",
      "metadata": {
        "id": "krRb_nP6dErH"
      },
      "source": [
        "# Plotar um gráfico de linhas com múltiplas variáveis\n",
        "\n",
        "from matplotlib import pyplot as plt\n",
        "\n",
        "plt.style.use(\"ggplot\")\n",
        "\n",
        "x = [2015, 2016, 2017, 2018, 2019, 2020, 2021]\n",
        "\n",
        "y1 = [1200, 1250, 1400, 1430, 1700, 1800, 1850]\n",
        "\n",
        "y2 = [1520, 1610, 1680, 1700, 1920, 1830, 2025]\n",
        "\n",
        "y3 = [1600, 1620, 1530, 1620, 1850, 1950, 2200]\n",
        "\n",
        "plt.plot(x, y1, color=\"b\", linestyle=\"--\", marker=\"o\", label=\"Empresa 1\")\n",
        "plt.plot(x, y2, color=\"k\", marker=\"o\", linewidth=3, label=\"Empresa 2\")\n",
        "plt.plot(x, y3, color=\"r\", marker=\"x\", linewidth=3, label=\"Empresa 3\")\n",
        "\n",
        "plt.xlabel(\"X-Anos\")\n",
        "plt.ylabel(\"Y-Faturamento(x1000)\")\n",
        "plt.title(\"Gráfico de Faturamento (Feito com Matplotlib)\")\n",
        "plt.grid(True)\n",
        "plt.legend()\n",
        "plt.show()"
      ],
      "execution_count": null,
      "outputs": []
    }
  ]
}