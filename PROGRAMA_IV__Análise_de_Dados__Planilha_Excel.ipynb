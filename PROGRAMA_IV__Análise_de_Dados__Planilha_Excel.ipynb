{
  "nbformat": 4,
  "nbformat_minor": 0,
  "metadata": {
    "colab": {
      "provenance": []
    },
    "kernelspec": {
      "name": "python3",
      "display_name": "Python 3"
    },
    "language_info": {
      "name": "python"
    }
  },
  "cells": [
    {
      "cell_type": "code",
      "source": [
        "# PASSO 1: Importando Bibliotecas e a Planilha - 'planilha_venda_casas.xlsx'.\n",
        "\n",
        "import numpy as np\n",
        "import pandas as pd\n",
        "from scipy import stats\n",
        "import statsmodels.api as sm\n",
        "import matplotlib.pyplot as plt\n",
        "import io\n",
        "\n",
        "from google.colab import files\n",
        "uploaded = files.upload()\n",
        "\n"
      ],
      "metadata": {
        "id": "GPi7Pc0q9GDr"
      },
      "execution_count": null,
      "outputs": []
    },
    {
      "cell_type": "code",
      "source": [
        "# PASSO 2: Estatística Descritiva\n",
        "\n",
        "df = pd.read_excel(io.BytesIO(uploaded['planilha_venda_casas.xlsx']))\n",
        "print(df)\n",
        "\n",
        "df.info()\n",
        "\n",
        "df = df.fillna(0)\n",
        "\n",
        "df2 = df[[\"Preco\", \"Terreno\", \"Quartos\", \"Construcao\"]]\n",
        "\n",
        "df2.describe()\n"
      ],
      "metadata": {
        "id": "JIR6SgGv9GHE"
      },
      "execution_count": null,
      "outputs": []
    },
    {
      "cell_type": "code",
      "source": [
        "# PASSO 3: Matriz de Correlação\n",
        "\n",
        "import numpy as np\n",
        "import pandas as pd\n",
        "from scipy import stats\n",
        "import statsmodels.api as sm\n",
        "import matplotlib.pyplot as plt\n",
        "\n",
        "df = pd.DataFrame(df2,columns=[\"Preco\", \"Terreno\", \"Quartos\", \"Construcao\"])\n",
        "\n",
        "corrMatrix = df.corr()\n",
        "print (corrMatrix)"
      ],
      "metadata": {
        "id": "Md3X-2UT9GKj"
      },
      "execution_count": null,
      "outputs": []
    },
    {
      "cell_type": "code",
      "source": [],
      "metadata": {
        "id": "Jxkk3aNV9GRL"
      },
      "execution_count": null,
      "outputs": []
    }
  ]
}