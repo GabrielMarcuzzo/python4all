{
 "cells": [
  {
   "cell_type": "code",
   "execution_count": 5,
   "id": "8d478a13",
   "metadata": {},
   "outputs": [
    {
     "name": "stdout",
     "output_type": "stream",
     "text": [
      "+-------------+-----------+--------+------------+\n",
      "|    Cidade   | População | Alunos | Percentual |\n",
      "+-------------+-----------+--------+------------+\n",
      "|   Niterói   |  523.342  | 34.214 |   83,4 %   |\n",
      "| São Gonçalo | 1.032.549 | 84.214 |   85,6 %   |\n",
      "|    Maricá   |  167.668  | 12.163 |  81,21 %   |\n",
      "|   Itaboraí  |  242.543  | 37.391 |  84,78 %   |\n",
      "+-------------+-----------+--------+------------+\n"
     ]
    }
   ],
   "source": [
    "# pip install prettytable\n",
    "\n",
    "from prettytable import PrettyTable\n",
    "\n",
    "myTable = PrettyTable([\"Cidade\", \"População\", \"Alunos\", \"Percentual\"])\n",
    "\n",
    "myTable.add_row([\"Niterói\", \"523.342\", \"34.214\", \"83,4 %\"])\n",
    "myTable.add_row([\"São Gonçalo\", \"1.032.549\", \"84.214\", \"85,6 %\"])\n",
    "myTable.add_row([\"Maricá\", \"167.668\", \"12.163\", \"81,21 %\"])\n",
    "myTable.add_row([\"Itaboraí\", \"242.543\", \"37.391\", \"84,78 %\"])\n",
    "print(myTable)\n",
    "\n"
   ]
  },
  {
   "cell_type": "code",
   "execution_count": null,
   "id": "2f40dea1",
   "metadata": {},
   "outputs": [],
   "source": []
  }
 ],
 "metadata": {
  "kernelspec": {
   "display_name": "Python 3",
   "language": "python",
   "name": "python3"
  }
 },
 "nbformat": 4,
 "nbformat_minor": 5
}
