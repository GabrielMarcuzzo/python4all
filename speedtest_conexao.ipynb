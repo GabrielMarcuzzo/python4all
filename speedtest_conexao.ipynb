{
 "cells": [
  {
   "cell_type": "code",
   "execution_count": 1,
   "id": "5101e6c3",
   "metadata": {},
   "outputs": [
    {
     "name": "stdout",
     "output_type": "stream",
     "text": [
      "A velocidade de download da sua conexão é: 87448707.44596581\n",
      "A velocidade de upload da sua conexão é: 54049480.01588806\n"
     ]
    }
   ],
   "source": [
    "# pip install speedtest-cli\n",
    "\n",
    "from speedtest import Speedtest\n",
    "\n",
    "st = Speedtest()\n",
    "\n",
    "print(\"A velocidade de download da sua conexão é:\", st.download())\n",
    "print(\"A velocidade de upload da sua conexão é:\", st.upload())"
   ]
  },
  {
   "cell_type": "code",
   "execution_count": null,
   "id": "55dafc14",
   "metadata": {},
   "outputs": [],
   "source": []
  }
 ],
 "metadata": {
  "kernelspec": {
   "display_name": "Python 3",
   "language": "python",
   "name": "python3"
  },
  "language_info": {
   "codemirror_mode": {
    "name": "ipython",
    "version": 3
   },
   "file_extension": ".py",
   "mimetype": "text/x-python",
   "name": "python",
   "nbconvert_exporter": "python",
   "pygments_lexer": "ipython3",
   "version": "3.8.8"
  }
 },
 "nbformat": 4,
 "nbformat_minor": 5
}
