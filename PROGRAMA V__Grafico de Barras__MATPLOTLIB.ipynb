{
 "cells": [
  {
   "cell_type": "code",
   "execution_count": null,
   "id": "9e52f0d2",
   "metadata": {},
   "outputs": [],
   "source": [
    "# Programa V:\n",
    "\n",
    "# Gráfico de barras para Múltiplas Variáveis criado com a biblioteca Matplotlib\n",
    "\n",
    "import numpy as np \n",
    "import matplotlib.pyplot as plt \n",
    "\n",
    "X = ['1o Ano','2o Ano','3o Ano','4o Ano']\n",
    "Ymanha = [15,25,16,19]\n",
    "Ztarde = [17,14,21,26]  \n",
    "X_axis = np.arange(len(X))\n",
    "plt.bar(X_axis - 0.2, Ymanha, 0.4, label = 'Manhã')\n",
    "plt.bar(X_axis + 0.2, Ztarde, 0.4, label = 'Tarde')\n",
    "plt.xticks(X_axis, X)\n",
    "plt.xlabel(\"Turnos\")\n",
    "plt.ylabel(\"Número de Alunos por Turno\")\n",
    "plt.title(\"Número de Alunos em Cada Série\")\n",
    "plt.legend()\n",
    "plt.show()\n"
   ]
  }
 ],
 "metadata": {
  "kernelspec": {
   "display_name": "Python 3",
   "language": "python",
   "name": "python3"
  },
  "language_info": {
   "codemirror_mode": {
    "name": "ipython",
    "version": 3
   },
   "file_extension": ".py",
   "mimetype": "text/x-python",
   "name": "python",
   "nbconvert_exporter": "python",
   "pygments_lexer": "ipython3",
   "version": "3.8.8"
  }
 },
 "nbformat": 4,
 "nbformat_minor": 5
}
